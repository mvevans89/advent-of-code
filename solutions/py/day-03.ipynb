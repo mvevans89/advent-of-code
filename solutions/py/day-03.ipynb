{
 "cells": [
  {
   "cell_type": "markdown",
   "metadata": {},
   "source": []
  },
  {
   "cell_type": "code",
   "execution_count": 14,
   "metadata": {},
   "outputs": [
    {
     "name": "stdout",
     "output_type": "stream",
     "text": [
      "2724524\n"
     ]
    }
   ],
   "source": [
    "from collections import Counter\n",
    "\n",
    "with open(\"../../data/day03.txt\") as f:\n",
    "    #creates a list of the binaries\n",
    "    data = [list(line.strip()) for line in f]\n",
    "    #define gamma and epsiolon\n",
    "    gamma, epsilon = '', ''\n",
    "\n",
    "    # print(data.__class__)\n",
    "    # print(data[0])\n",
    "    for column in zip(*data):\n",
    "        c = Counter(column).most_common()\n",
    "        # print(c)\n",
    "        gamma += c[0][0]\n",
    "        epsilon += c[1][0]\n",
    "        # print(gamma)\n",
    "        # print(epsilon)\n",
    "    gamma_dec = int(gamma, base=2)\n",
    "    epsilon_dec = int(epsilon, base=2)\n",
    "\n",
    "    print(gamma_dec*epsilon_dec)"
   ]
  },
  {
   "cell_type": "markdown",
   "metadata": {},
   "source": [
    "from here: https://galaxyinferno.com/how-to-solve-advent-of-code-2021-day-3-python/"
   ]
  },
  {
   "cell_type": "code",
   "execution_count": 35,
   "metadata": {},
   "outputs": [
    {
     "name": "stdout",
     "output_type": "stream",
     "text": [
      "<class 'list'>\n",
      "range(0, 12)\n",
      "1000\n",
      "514\n",
      "264\n",
      "133\n",
      "70\n",
      "40\n",
      "22\n",
      "11\n",
      "7\n",
      "5\n",
      "3\n",
      "2\n",
      "1\n",
      "oxygen binary: 111110110111 \n",
      "oxygen decimal: 4023\n",
      "0 : 0\n",
      "486\n",
      "1 : 0\n",
      "240\n",
      "2 : 1\n",
      "117\n",
      "3 : 0\n",
      "55\n",
      "4 : 1\n",
      "25\n",
      "5 : 0\n",
      "12\n",
      "6 : 1\n",
      "5\n",
      "7 : 1\n",
      "2\n",
      "8 : 0\n",
      "1\n",
      "carbon binary: 001010110010 \n",
      "carbon decimal: 690\n",
      "full rating: 2775870\n"
     ]
    }
   ],
   "source": [
    "from collections import Counter\n",
    "from copy import copy\n",
    "\n",
    "with open(\"../../data/day03.txt\") as f:\n",
    "    lines = f.readlines()\n",
    "    diagnostics = [entry.strip() for entry in lines]\n",
    "    \n",
    "    print(diagnostics.__class__)\n",
    "    #print(diagnostics)\n",
    "    \n",
    "    oxygen = copy(diagnostics)\n",
    "    \n",
    "    #check out how indexing works for these lists\n",
    "    print(range(len(diagnostics[0])))\n",
    "    print(len(diagnostics))\n",
    "    #print(diagnostics[0])\n",
    "    \n",
    "    for i in range(len(diagnostics[0])):\n",
    "        #break if only one left\n",
    "        if len(oxygen) == 1:\n",
    "            break\n",
    "        col_binary = [entry[i] for entry in oxygen]\n",
    "        #print(col_binary[0])\n",
    "        #print(col_binary.count('1'))\n",
    "        #print(len(oxygen))\n",
    "        #count number of 1s, if less than half zero, otherwise 1\n",
    "        if col_binary.count('1') >= len(oxygen)/2:\n",
    "            common_bit = '1'\n",
    "        else: \n",
    "            common_bit = '0'\n",
    "        #print(common_bit)\n",
    "        #subset to only be those that have that value\n",
    "        oxygen = [entry for entry in oxygen \n",
    "                                    if entry[i]==common_bit]\n",
    "        print(len(oxygen))\n",
    "    #calculate in decimal\n",
    "    oxygen_dec = int(oxygen[0], base = 2)\n",
    "    print('oxygen binary:', oxygen[0], '\\noxygen decimal:', oxygen_dec)\n",
    "    \n",
    "    #now do c02 rating\n",
    "    carbon = copy(diagnostics)\n",
    "    \n",
    "    for i in range(len(diagnostics[0])):\n",
    "        if len(carbon) == 1:\n",
    "            break\n",
    "        col_binary = [entry[i] for entry in carbon]\n",
    "        if col_binary.count('0') <= len(carbon)/2:\n",
    "            common_bit = '0'\n",
    "        else:\n",
    "            common_bit = '1'\n",
    "        carbon = [entry for entry in carbon\n",
    "                                     if entry[i]==common_bit]\n",
    "        print(i, \":\", common_bit)\n",
    "        print(len(carbon))\n",
    "    #calculate decimal\n",
    "    carbon_dec = int(carbon[0], base = 2)\n",
    "    print('carbon binary:', carbon[0], '\\ncarbon decimal:', carbon_dec)\n",
    "    \n",
    "    #calculate the total rating\n",
    "    print('full rating:', carbon_dec*oxygen_dec)"
   ]
  },
  {
   "cell_type": "code",
   "execution_count": null,
   "metadata": {},
   "outputs": [],
   "source": []
  },
  {
   "cell_type": "code",
   "execution_count": null,
   "metadata": {},
   "outputs": [],
   "source": []
  }
 ],
 "metadata": {
  "kernelspec": {
   "display_name": "Python 3",
   "language": "python",
   "name": "python3"
  },
  "language_info": {
   "codemirror_mode": {
    "name": "ipython",
    "version": 3
   },
   "file_extension": ".py",
   "mimetype": "text/x-python",
   "name": "python",
   "nbconvert_exporter": "python",
   "pygments_lexer": "ipython3",
   "version": "3.8.5"
  }
 },
 "nbformat": 4,
 "nbformat_minor": 4
}
