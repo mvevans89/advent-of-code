{
 "cells": [
  {
   "cell_type": "code",
   "execution_count": 4,
   "metadata": {},
   "outputs": [
    {
     "name": "stdout",
     "output_type": "stream",
     "text": [
      "['2', '3']\n"
     ]
    }
   ],
   "source": [
    "with open(\"../../data/day04.txt\") as f:\n",
    "    #creates a list of the binaries\n",
    "    data = [list(line.strip()) for line in f]\n",
    "    \n",
    "    print(data[0][0:2])"
   ]
  },
  {
   "cell_type": "code",
   "execution_count": 100,
   "metadata": {},
   "outputs": [
    {
     "name": "stdout",
     "output_type": "stream",
     "text": [
      "<class 'list'>\n",
      "100\n",
      "[[67 97 50 51  1]\n",
      " [47 15 77 31 66]\n",
      " [24 14 55 70 52]\n",
      " [76 46 19 32 73]\n",
      " [34 22 54 75 17]]\n",
      "[[0 0 0 0 0]\n",
      " [0 0 0 0 0]\n",
      " [0 0 0 0 0]\n",
      " [0 0 0 0 0]\n",
      " [0 0 0 0 0]]\n",
      "<class 'dict'>\n",
      "100\n",
      "range(0, 100)\n",
      "winning number: 42\n",
      "rounds needed: 32\n",
      "winning card: 23\n",
      "(array([0, 0, 0, 0, 1, 1, 1, 3, 3, 3, 4, 4, 4, 4, 4]), array([0, 1, 2, 4, 0, 1, 2, 0, 3, 4, 0, 1, 2, 3, 4]))\n",
      "[24 19 78 69 52 38  7 44 45 49 94 51 98 99 27]\n",
      "33348\n"
     ]
    }
   ],
   "source": [
    "import numpy as np\n",
    "\n",
    "with open('../../data/day04.txt', 'r') as f:\n",
    "    lines = [entry.strip() for entry in f.readlines()]\n",
    "    #print(lines)\n",
    "    \n",
    "    #get just the called numbers as a list of integers\n",
    "    called_numbers = [int(entry) for entry in lines[0].split(',')]\n",
    "    print(type(called_numbers))\n",
    "    #print(called_numbers)\n",
    "    \n",
    "    #seperate out the boards\n",
    "    number_of_boards = (len(lines)-1)//6\n",
    "    print(number_of_boards)\n",
    "    bingo_boards = dict()\n",
    "    for j in range(number_of_boards):\n",
    "        line_subset = lines[(2 + j*6):(2+5+(j+1)*6)]\n",
    "        this_board = np.zeros((5,5), dtype=int)\n",
    "        for i in range(0,5):\n",
    "            line_entries = [int(entry) for entry in line_subset[i].split(' ') if entry != '']\n",
    "            this_board[i] = line_entries\n",
    "            \n",
    "        bingo_boards[j] = this_board\n",
    "    \n",
    "    print(bingo_boards[0])\n",
    "    \n",
    "    #create boards to count filled with same structure\n",
    "    bingo_scores = dict()\n",
    "    for j in range(number_of_boards):\n",
    "        this_board = np.zeros((5,5), dtype=int)\n",
    "        bingo_scores[j] = this_board\n",
    "        \n",
    "    print(bingo_scores[0])\n",
    "    print(type(bingo_boards))\n",
    "    print(len(bingo_boards))\n",
    "    print(range(len(bingo_boards)))\n",
    "\n",
    "          \n",
    "    round_count = 0 \n",
    "    game_over = 0\n",
    "    for this_num in called_numbers:\n",
    "        round_count += 1\n",
    "        \n",
    "        for card in range(len(bingo_boards)):\n",
    "#         for card in range(5):\n",
    "            this_card = bingo_boards[card]\n",
    "#             print(this_card)\n",
    "            \n",
    "            if this_num in this_card:\n",
    "                \n",
    "                indices = np.where(this_card == this_num)\n",
    "#                 print(indices)\n",
    "                bingo_scores[card][indices[0], indices[1]] = 1\n",
    "#                 print(bingo_scores[card])\n",
    "            \n",
    "            #check for bingo\n",
    "            row_bingo = list(np.sum(bingo_scores[card], axis = 1))\n",
    "            col_bingo = list(np.sum(bingo_scores[card], axis = 0))\n",
    "#             print(type(col_bingo))\n",
    "#             print(col_bingo)\n",
    "            all_bingo =  col_bingo + row_bingo\n",
    "#             print(all_bingo)\n",
    "            if 5 in all_bingo:\n",
    "                print(\"winning number:\", this_num)\n",
    "                print(\"rounds needed:\", round_count)\n",
    "                print(\"winning card:\", card)\n",
    "                win_card = bingo_boards[card]\n",
    "                win_score = bingo_scores[card]\n",
    "                last_num = this_num\n",
    "                game_over = 1\n",
    "                \n",
    "        if game_over==1:\n",
    "            break\n",
    "    #get sum of unmarked numbers\n",
    "    indices  = np.where(win_score==0)\n",
    "    print(indices)\n",
    "    score = win_card[indices[0], indices[1]]\n",
    "    print(score)\n",
    "    #then multiply by the last number called\n",
    "    print(sum(score)*last_num)\n",
    "    "
   ]
  },
  {
   "cell_type": "code",
   "execution_count": null,
   "metadata": {},
   "outputs": [],
   "source": []
  }
 ],
 "metadata": {
  "kernelspec": {
   "display_name": "Python 3",
   "language": "python",
   "name": "python3"
  },
  "language_info": {
   "codemirror_mode": {
    "name": "ipython",
    "version": 3
   },
   "file_extension": ".py",
   "mimetype": "text/x-python",
   "name": "python",
   "nbconvert_exporter": "python",
   "pygments_lexer": "ipython3",
   "version": "3.8.5"
  }
 },
 "nbformat": 4,
 "nbformat_minor": 4
}
