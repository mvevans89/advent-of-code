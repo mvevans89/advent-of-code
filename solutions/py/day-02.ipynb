{
 "cells": [
  {
   "cell_type": "markdown",
   "metadata": {},
   "source": [
    "okay some practice to see how it all works"
   ]
  },
  {
   "cell_type": "code",
   "execution_count": 2,
   "metadata": {},
   "outputs": [
    {
     "name": "stdout",
     "output_type": "stream",
     "text": [
      "['forward', 'forward', 'down', 'up']\n",
      "[2, 3, 4, 1]\n"
     ]
    }
   ],
   "source": [
    "dir = ['forward', 'forward', 'down', 'up']\n",
    "dist = [2,3,4,1]\n",
    "\n",
    "print(dir)\n",
    "print(dist)"
   ]
  },
  {
   "cell_type": "code",
   "execution_count": 5,
   "metadata": {},
   "outputs": [
    {
     "name": "stdout",
     "output_type": "stream",
     "text": [
      "0\n",
      "0\n"
     ]
    }
   ],
   "source": [
    "depth = 0\n",
    "horiz = 0\n",
    "\n",
    "print(depth)\n",
    "print(horiz)"
   ]
  },
  {
   "cell_type": "code",
   "execution_count": 9,
   "metadata": {},
   "outputs": [
    {
     "name": "stdout",
     "output_type": "stream",
     "text": [
      "1980\n",
      "866\n",
      "1714680\n"
     ]
    }
   ],
   "source": [
    "depth = 0\n",
    "horiz = 0\n",
    "\n",
    "with open(\"../../data/day02_01.txt\") as f:\n",
    "    for line in f:\n",
    "        direction, n = line.split()\n",
    "        n = int(n)\n",
    "        \n",
    "        if direction == \"forward\":\n",
    "            horiz += n\n",
    "        elif direction == \"down\":\n",
    "            depth += n\n",
    "        elif direction == \"up\":\n",
    "            depth -= n\n",
    "            \n",
    "\n",
    "print(horiz * depth)"
   ]
  },
  {
   "cell_type": "code",
   "execution_count": 10,
   "metadata": {},
   "outputs": [
    {
     "name": "stdout",
     "output_type": "stream",
     "text": [
      "1963088820\n"
     ]
    }
   ],
   "source": [
    "depth = 0\n",
    "horiz = 0\n",
    "aim = 0\n",
    "\n",
    "with open(\"../../data/day02_01.txt\") as f:\n",
    "    for line in f:\n",
    "        direction, n = line.split()\n",
    "        n = int(n)\n",
    "        \n",
    "        if direction == \"forward\":\n",
    "            horiz += n\n",
    "            depth += aim * n\n",
    "        elif direction == \"down\":\n",
    "            aim += n\n",
    "        elif direction == \"up\":\n",
    "            aim -= n\n",
    "            \n",
    "\n",
    "print(horiz * depth)"
   ]
  },
  {
   "cell_type": "code",
   "execution_count": null,
   "metadata": {},
   "outputs": [],
   "source": []
  }
 ],
 "metadata": {
  "kernelspec": {
   "display_name": "Python 3",
   "language": "python",
   "name": "python3"
  },
  "language_info": {
   "codemirror_mode": {
    "name": "ipython",
    "version": 3
   },
   "file_extension": ".py",
   "mimetype": "text/x-python",
   "name": "python",
   "nbconvert_exporter": "python",
   "pygments_lexer": "ipython3",
   "version": "3.8.5"
  }
 },
 "nbformat": 4,
 "nbformat_minor": 4
}
