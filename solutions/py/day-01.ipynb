{
 "cells": [
  {
   "cell_type": "markdown",
   "metadata": {},
   "source": [
    "Trying to learn python by doing advent of code!"
   ]
  },
  {
   "cell_type": "markdown",
   "metadata": {},
   "source": [
    "# Day 1\n",
    "\n",
    "[Day one quest](https://adventofcode.com/2021/day/1)\n",
    "\n",
    "Basically, we need to create a function or loop that counts the number of times the number at x+1 is bigger than the number at x."
   ]
  },
  {
   "cell_type": "code",
   "execution_count": 1,
   "metadata": {},
   "outputs": [
    {
     "name": "stdout",
     "output_type": "stream",
     "text": [
      "[232, 214, 266, 251, 235, 243, 264, 230, 227, 249, 229, 200, 201, 230, 247, 240, 225, 236, 237, 242]\n",
      "<class 'list'>\n"
     ]
    }
   ],
   "source": [
    "# first create an example list of numbers to use\n",
    "\n",
    "import random as random\n",
    "\n",
    "depths = [random.randint(200,270) for _ in range(20)]\n",
    "print(depths)\n",
    "print(type(depths))"
   ]
  },
  {
   "cell_type": "code",
   "execution_count": 2,
   "metadata": {},
   "outputs": [
    {
     "name": "stdout",
     "output_type": "stream",
     "text": [
      "10\n"
     ]
    }
   ],
   "source": [
    "from typing import List, Any\n",
    "\n",
    "#create a function\n",
    "def count_increases(data: List[int]) -> int:\n",
    "    c = 0\n",
    "    for i in range(1, len(data)):\n",
    "        if data[i] > data[i - 1]:\n",
    "            c += 1\n",
    "    return c\n",
    "\n",
    "increase = count_increases(depths)\n",
    "\n",
    "print(increase)"
   ]
  },
  {
   "cell_type": "markdown",
   "metadata": {},
   "source": [
    "Now we can use this function over the actual data from AoC:"
   ]
  },
  {
   "cell_type": "code",
   "execution_count": 3,
   "metadata": {},
   "outputs": [
    {
     "name": "stdout",
     "output_type": "stream",
     "text": [
      "<class 'list'>\n",
      "<class 'list'>\n",
      "[170, 176, 179, 180, 195, 197, 203, 211, 212, 200]\n",
      "Number of measurements: 2000\n"
     ]
    }
   ],
   "source": [
    "#read in and parse data\n",
    "data_day1 = open('../../data/day01_01.txt', 'r').readlines()\n",
    "data_int = [int(line) for line in data_day1]\n",
    "\n",
    "print(type(data_day1))\n",
    "\n",
    "print(type(data_int))\n",
    "\n",
    "print(data_int[:10])\n",
    "print(\"Number of measurements:\", len(data_int))"
   ]
  },
  {
   "cell_type": "code",
   "execution_count": 4,
   "metadata": {},
   "outputs": [
    {
     "name": "stdout",
     "output_type": "stream",
     "text": [
      "1477\n"
     ]
    }
   ],
   "source": [
    "increase2 = count_increases(data_int)\n",
    "\n",
    "print(increase2)"
   ]
  },
  {
   "cell_type": "markdown",
   "metadata": {},
   "source": [
    "For the second part we need to calculate the sum within a moving window of three and compare it with the past one.\n",
    "\n",
    "first, we'll just create the vector of the moving windows. We can do this with a built in function from pandas."
   ]
  },
  {
   "cell_type": "code",
   "execution_count": 5,
   "metadata": {},
   "outputs": [],
   "source": [
    "import pandas"
   ]
  },
  {
   "cell_type": "code",
   "execution_count": 6,
   "metadata": {},
   "outputs": [
    {
     "name": "stdout",
     "output_type": "stream",
     "text": [
      "         0\n",
      "0      170\n",
      "1      176\n",
      "2      179\n",
      "3      180\n",
      "4      195\n",
      "...    ...\n",
      "1995  7158\n",
      "1996  7165\n",
      "1997  7181\n",
      "1998  7179\n",
      "1999  7181\n",
      "\n",
      "[2000 rows x 1 columns]\n",
      "            0\n",
      "0         NaN\n",
      "1         NaN\n",
      "2       525.0\n",
      "3       535.0\n",
      "4       554.0\n",
      "...       ...\n",
      "1995  21429.0\n",
      "1996  21459.0\n",
      "1997  21504.0\n",
      "1998  21525.0\n",
      "1999  21541.0\n",
      "\n",
      "[2000 rows x 1 columns]\n"
     ]
    }
   ],
   "source": [
    "input_df = pandas.DataFrame(data_int)\n",
    "\n",
    "print(input_df)\n",
    "\n",
    "df_window = input_df.rolling(3).sum()\n",
    "print(df_window)"
   ]
  },
  {
   "cell_type": "markdown",
   "metadata": {},
   "source": [
    "Now we can just apply that function from before onto this vector of rolling window stuff. Okay, actually we can't do that becuase it is no longer a list, so what if I write my own function to do it?"
   ]
  },
  {
   "cell_type": "code",
   "execution_count": 7,
   "metadata": {},
   "outputs": [
    {
     "name": "stdout",
     "output_type": "stream",
     "text": [
      "[176, 179, 180, 195, 197, 203, 211, 212, 200]\n",
      "535\n",
      "[535, 554, 572, 595]\n"
     ]
    }
   ],
   "source": [
    "#create a function\n",
    "def rollingSum(data: List[int]) -> List:\n",
    "    sums = []\n",
    "    for i in range(2, len(data)):\n",
    "        sums.append(sum(data[i - 2 : i+1]))\n",
    "    return(sums)\n",
    "\n",
    "df_window = rollingSum(data_int)\n",
    "print(data_int[1:10])\n",
    "print(176+179+180)\n",
    "print(df_window[1:5])"
   ]
  },
  {
   "cell_type": "code",
   "execution_count": 8,
   "metadata": {},
   "outputs": [
    {
     "name": "stdout",
     "output_type": "stream",
     "text": [
      "1523\n"
     ]
    }
   ],
   "source": [
    "print(count_increases(df_window))"
   ]
  },
  {
   "cell_type": "code",
   "execution_count": null,
   "metadata": {},
   "outputs": [],
   "source": []
  }
 ],
 "metadata": {
  "kernelspec": {
   "display_name": "Python 3",
   "language": "python",
   "name": "python3"
  },
  "language_info": {
   "codemirror_mode": {
    "name": "ipython",
    "version": 3
   },
   "file_extension": ".py",
   "mimetype": "text/x-python",
   "name": "python",
   "nbconvert_exporter": "python",
   "pygments_lexer": "ipython3",
   "version": "3.8.5"
  }
 },
 "nbformat": 4,
 "nbformat_minor": 4
}
